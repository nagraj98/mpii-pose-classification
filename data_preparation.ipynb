{
 "cells": [
  {
   "cell_type": "code",
   "execution_count": 1,
   "metadata": {},
   "outputs": [],
   "source": [
    "import numpy as np\n",
    "from scipy.io import loadmat  # this is the SciPy module that loads mat-files\n",
    "import matplotlib.pyplot as plt\n",
    "import pandas as pd"
   ]
  },
  {
   "cell_type": "markdown",
   "metadata": {},
   "source": [
    "### Getting the data from .mat file to a dataframe"
   ]
  },
  {
   "cell_type": "code",
   "execution_count": 2,
   "metadata": {},
   "outputs": [],
   "source": [
    "# Improved loadmat for complex and deeply nested mat files.\n",
    "# source : https://stackoverflow.com/a/60364102\n",
    "\n",
    "from scipy.io import loadmat, matlab\n",
    "def load_mat(filename):\n",
    "    \"\"\"\n",
    "    This function should be called instead of direct scipy.io.loadmat\n",
    "    as it cures the problem of not properly recovering python dictionaries\n",
    "    from mat files. It calls the function check keys to cure all entries\n",
    "    which are still mat-objects\n",
    "    \"\"\"\n",
    "\n",
    "    def _check_vars(d):\n",
    "        \"\"\"\n",
    "        Checks if entries in dictionary are mat-objects. If yes\n",
    "        todict is called to change them to nested dictionaries\n",
    "        \"\"\"\n",
    "        for key in d:\n",
    "            if isinstance(d[key], matlab.mio5_params.mat_struct):\n",
    "                d[key] = _todict(d[key])\n",
    "            elif isinstance(d[key], np.ndarray):\n",
    "                d[key] = _toarray(d[key])\n",
    "        return d\n",
    "\n",
    "    def _todict(matobj):\n",
    "        \"\"\"\n",
    "        A recursive function which constructs from matobjects nested dictionaries\n",
    "        \"\"\"\n",
    "        d = {}\n",
    "        for strg in matobj._fieldnames:\n",
    "            elem = matobj.__dict__[strg]\n",
    "            if isinstance(elem, matlab.mio5_params.mat_struct):\n",
    "                d[strg] = _todict(elem)\n",
    "            elif isinstance(elem, np.ndarray):\n",
    "                d[strg] = _toarray(elem)\n",
    "            else:\n",
    "                d[strg] = elem\n",
    "        return d\n",
    "\n",
    "    def _toarray(ndarray):\n",
    "        \"\"\"\n",
    "        A recursive function which constructs ndarray from cellarrays\n",
    "        (which are loaded as numpy ndarrays), recursing into the elements\n",
    "        if they contain matobjects.\n",
    "        \"\"\"\n",
    "        if ndarray.dtype != 'float64':\n",
    "            elem_list = []\n",
    "            for sub_elem in ndarray:\n",
    "                if isinstance(sub_elem, matlab.mio5_params.mat_struct):\n",
    "                    elem_list.append(_todict(sub_elem))\n",
    "                elif isinstance(sub_elem, np.ndarray):\n",
    "                    elem_list.append(_toarray(sub_elem))\n",
    "                else:\n",
    "                    elem_list.append(sub_elem)\n",
    "            return np.array(elem_list)\n",
    "        else:\n",
    "            return ndarray\n",
    "\n",
    "    data = loadmat(filename, struct_as_record=False, squeeze_me=True)\n",
    "    return _check_vars(data)"
   ]
  },
  {
   "cell_type": "code",
   "execution_count": 3,
   "metadata": {},
   "outputs": [],
   "source": [
    "# Custom function for extracting only the following data from mpi pose dataset :\n",
    "# .x1, .y1, .x2, .y2 - coordinates of the head rectangle\n",
    "# .scale - person scale w.r.t. 200 px height\n",
    "# x_id, y_id - keypoint coordinates of 16 different joints\n",
    "# vis_id - visibility bool of 16 different joints\n",
    "# act_name - activity name\n",
    "# cat_name - category name\n",
    "\n",
    "# structure of the .mat dataset is given here : http://human-pose.mpi-inf.mpg.de/#download\n",
    "\n",
    "\n",
    "def extract_data(mat_data, idx):\n",
    "\n",
    "    anncols = {}\n",
    "    coldict = {}\n",
    "    data_available = True\n",
    "    names = {'x1':'rx1', 'y1':'ry1', 'x2':'rx2', 'y2':'ry2', 'scale':'scale'}\n",
    "    \n",
    "\n",
    "    annorect = mat_data[\"annolist\"][idx][\"annorect\"]\n",
    "\n",
    "    # getting .x1, .y1, .x2, .y2, .scale\n",
    "    if (type(annorect) != dict):\n",
    "        data_available = False\n",
    "    else:\n",
    "        for k in names.keys():\n",
    "            # print(type(annorect), len(annorect))\n",
    "            if k in annorect.keys() :\n",
    "                anncols[names[k]] = annorect[k]\n",
    "            else:\n",
    "                data_available = False\n",
    "                break\n",
    "\n",
    "    if data_available and ('annopoints' in annorect.keys()) :\n",
    "        points = annorect[\"annopoints\"][\"point\"]\n",
    "\n",
    "        # getting keypoints and visibility of joints.\n",
    "        for point in points:\n",
    "            anncols[f\"x_{point['id']}\"] = point['x']\n",
    "            anncols[f\"y_{point['id']}\"] = point['y']\n",
    "\n",
    "            if(type(point['is_visible']) == int):\n",
    "                anncols[f\"vis_{point['id']}\"] = point['is_visible']\n",
    "            else :\n",
    "                anncols[f\"vis_{point['id']}\"] = 0\n",
    "    else:\n",
    "        data_available = False\n",
    "\n",
    "    # print(data_available)\n",
    "\n",
    "    # get the act_name and cat_name values for this record\n",
    "    if (data_available) : \n",
    "        # print(\"hello\")\n",
    "        actcols = mat_data[\"act\"][idx]\n",
    "        if( type(actcols['cat_name']) != str or type(actcols['act_name']) != str ):\n",
    "            data_available = False\n",
    "        else :\n",
    "            coldict = { **anncols, **actcols }\n",
    "        \n",
    "\n",
    "    return ( coldict , data_available)"
   ]
  },
  {
   "cell_type": "code",
   "execution_count": 4,
   "metadata": {},
   "outputs": [
    {
     "name": "stderr",
     "output_type": "stream",
     "text": [
      "C:\\Users\\Nagraj_Spry\\AppData\\Local\\Temp\\ipykernel_32144\\1825295607.py:19: DeprecationWarning: Please use `mat_struct` from the `scipy.io.matlab` namespace, the `scipy.io.matlab.mio5_params` namespace is deprecated.\n",
      "  if isinstance(d[key], matlab.mio5_params.mat_struct):\n",
      "C:\\Users\\Nagraj_Spry\\AppData\\Local\\Temp\\ipykernel_32144\\1825295607.py:32: DeprecationWarning: Please use `mat_struct` from the `scipy.io.matlab` namespace, the `scipy.io.matlab.mio5_params` namespace is deprecated.\n",
      "  if isinstance(elem, matlab.mio5_params.mat_struct):\n",
      "C:\\Users\\Nagraj_Spry\\AppData\\Local\\Temp\\ipykernel_32144\\1825295607.py:49: DeprecationWarning: Please use `mat_struct` from the `scipy.io.matlab` namespace, the `scipy.io.matlab.mio5_params` namespace is deprecated.\n",
      "  if isinstance(sub_elem, matlab.mio5_params.mat_struct):\n",
      "C:\\Users\\Nagraj_Spry\\AppData\\Local\\Temp\\ipykernel_32144\\1825295607.py:55: VisibleDeprecationWarning: Creating an ndarray from ragged nested sequences (which is a list-or-tuple of lists-or-tuples-or ndarrays with different lengths or shapes) is deprecated. If you meant to do this, you must specify 'dtype=object' when creating the ndarray.\n",
      "  return np.array(elem_list)\n"
     ]
    }
   ],
   "source": [
    "# load mat-file\n",
    "mat2 = load_mat('mpii_human_pose_v1_u12_1.mat')  \n",
    "\n",
    "# get actual data from the RELEASE variable\n",
    "mat2data = mat2[\"RELEASE\"]\n"
   ]
  },
  {
   "cell_type": "code",
   "execution_count": 5,
   "metadata": {},
   "outputs": [],
   "source": [
    "# Extract required data and store to dataframe\n",
    "\n",
    "records = []\n",
    "for i in range(len(mat2data[\"annolist\"])):\n",
    "    record, is_available = extract_data(mat2data, i)\n",
    "    if(is_available):\n",
    "        records.append(record)\n",
    "\n",
    "df = pd.DataFrame(records)"
   ]
  },
  {
   "cell_type": "code",
   "execution_count": 6,
   "metadata": {},
   "outputs": [
    {
     "data": {
      "text/html": [
       "<div>\n",
       "<style scoped>\n",
       "    .dataframe tbody tr th:only-of-type {\n",
       "        vertical-align: middle;\n",
       "    }\n",
       "\n",
       "    .dataframe tbody tr th {\n",
       "        vertical-align: top;\n",
       "    }\n",
       "\n",
       "    .dataframe thead th {\n",
       "        text-align: right;\n",
       "    }\n",
       "</style>\n",
       "<table border=\"1\" class=\"dataframe\">\n",
       "  <thead>\n",
       "    <tr style=\"text-align: right;\">\n",
       "      <th></th>\n",
       "      <th>rx1</th>\n",
       "      <th>ry1</th>\n",
       "      <th>rx2</th>\n",
       "      <th>ry2</th>\n",
       "      <th>scale</th>\n",
       "      <th>x_6</th>\n",
       "      <th>y_6</th>\n",
       "      <th>vis_6</th>\n",
       "      <th>x_7</th>\n",
       "      <th>y_7</th>\n",
       "      <th>...</th>\n",
       "      <th>vis_13</th>\n",
       "      <th>x_14</th>\n",
       "      <th>y_14</th>\n",
       "      <th>vis_14</th>\n",
       "      <th>x_15</th>\n",
       "      <th>y_15</th>\n",
       "      <th>vis_15</th>\n",
       "      <th>cat_name</th>\n",
       "      <th>act_name</th>\n",
       "      <th>act_id</th>\n",
       "    </tr>\n",
       "  </thead>\n",
       "  <tbody>\n",
       "    <tr>\n",
       "      <th>0</th>\n",
       "      <td>806</td>\n",
       "      <td>56</td>\n",
       "      <td>901</td>\n",
       "      <td>183</td>\n",
       "      <td>3.806403</td>\n",
       "      <td>904.0</td>\n",
       "      <td>237.0</td>\n",
       "      <td>1.0</td>\n",
       "      <td>858.0</td>\n",
       "      <td>135.0</td>\n",
       "      <td>...</td>\n",
       "      <td>1.0</td>\n",
       "      <td>995.0</td>\n",
       "      <td>163.0</td>\n",
       "      <td>0.0</td>\n",
       "      <td>961.0</td>\n",
       "      <td>223.0</td>\n",
       "      <td>0.0</td>\n",
       "      <td>sports</td>\n",
       "      <td>curling</td>\n",
       "      <td>1</td>\n",
       "    </tr>\n",
       "    <tr>\n",
       "      <th>1</th>\n",
       "      <td>595</td>\n",
       "      <td>79</td>\n",
       "      <td>798</td>\n",
       "      <td>358</td>\n",
       "      <td>8.280870</td>\n",
       "      <td>846.0</td>\n",
       "      <td>351.0</td>\n",
       "      <td>1.0</td>\n",
       "      <td>738.0</td>\n",
       "      <td>259.0</td>\n",
       "      <td>...</td>\n",
       "      <td>1.0</td>\n",
       "      <td>1112.0</td>\n",
       "      <td>384.0</td>\n",
       "      <td>1.0</td>\n",
       "      <td>1012.0</td>\n",
       "      <td>489.0</td>\n",
       "      <td>1.0</td>\n",
       "      <td>sports</td>\n",
       "      <td>curling</td>\n",
       "      <td>1</td>\n",
       "    </tr>\n",
       "    <tr>\n",
       "      <th>2</th>\n",
       "      <td>302</td>\n",
       "      <td>122</td>\n",
       "      <td>355</td>\n",
       "      <td>197</td>\n",
       "      <td>2.204083</td>\n",
       "      <td>332.0</td>\n",
       "      <td>346.0</td>\n",
       "      <td>1.0</td>\n",
       "      <td>325.0</td>\n",
       "      <td>217.0</td>\n",
       "      <td>...</td>\n",
       "      <td>1.0</td>\n",
       "      <td>396.0</td>\n",
       "      <td>309.0</td>\n",
       "      <td>1.0</td>\n",
       "      <td>393.0</td>\n",
       "      <td>290.0</td>\n",
       "      <td>1.0</td>\n",
       "      <td>occupation</td>\n",
       "      <td>truck driving, loading and unloading truck, ty...</td>\n",
       "      <td>3</td>\n",
       "    </tr>\n",
       "    <tr>\n",
       "      <th>3</th>\n",
       "      <td>439</td>\n",
       "      <td>143</td>\n",
       "      <td>540</td>\n",
       "      <td>283</td>\n",
       "      <td>4.143112</td>\n",
       "      <td>NaN</td>\n",
       "      <td>NaN</td>\n",
       "      <td>NaN</td>\n",
       "      <td>533.0</td>\n",
       "      <td>322.0</td>\n",
       "      <td>...</td>\n",
       "      <td>1.0</td>\n",
       "      <td>NaN</td>\n",
       "      <td>NaN</td>\n",
       "      <td>NaN</td>\n",
       "      <td>NaN</td>\n",
       "      <td>NaN</td>\n",
       "      <td>NaN</td>\n",
       "      <td>occupation</td>\n",
       "      <td>truck driving, loading and unloading truck, ty...</td>\n",
       "      <td>3</td>\n",
       "    </tr>\n",
       "    <tr>\n",
       "      <th>4</th>\n",
       "      <td>200</td>\n",
       "      <td>127</td>\n",
       "      <td>318</td>\n",
       "      <td>269</td>\n",
       "      <td>4.431105</td>\n",
       "      <td>159.0</td>\n",
       "      <td>370.0</td>\n",
       "      <td>1.0</td>\n",
       "      <td>189.0</td>\n",
       "      <td>228.0</td>\n",
       "      <td>...</td>\n",
       "      <td>1.0</td>\n",
       "      <td>319.0</td>\n",
       "      <td>123.0</td>\n",
       "      <td>1.0</td>\n",
       "      <td>376.0</td>\n",
       "      <td>39.0</td>\n",
       "      <td>1.0</td>\n",
       "      <td>occupation</td>\n",
       "      <td>truck driving, loading and unloading truck, ty...</td>\n",
       "      <td>3</td>\n",
       "    </tr>\n",
       "  </tbody>\n",
       "</table>\n",
       "<p>5 rows × 56 columns</p>\n",
       "</div>"
      ],
      "text/plain": [
       "   rx1  ry1  rx2  ry2     scale    x_6    y_6  vis_6    x_7    y_7  ...  \\\n",
       "0  806   56  901  183  3.806403  904.0  237.0    1.0  858.0  135.0  ...   \n",
       "1  595   79  798  358  8.280870  846.0  351.0    1.0  738.0  259.0  ...   \n",
       "2  302  122  355  197  2.204083  332.0  346.0    1.0  325.0  217.0  ...   \n",
       "3  439  143  540  283  4.143112    NaN    NaN    NaN  533.0  322.0  ...   \n",
       "4  200  127  318  269  4.431105  159.0  370.0    1.0  189.0  228.0  ...   \n",
       "\n",
       "   vis_13    x_14   y_14  vis_14    x_15   y_15  vis_15    cat_name  \\\n",
       "0     1.0   995.0  163.0     0.0   961.0  223.0     0.0      sports   \n",
       "1     1.0  1112.0  384.0     1.0  1012.0  489.0     1.0      sports   \n",
       "2     1.0   396.0  309.0     1.0   393.0  290.0     1.0  occupation   \n",
       "3     1.0     NaN    NaN     NaN     NaN    NaN     NaN  occupation   \n",
       "4     1.0   319.0  123.0     1.0   376.0   39.0     1.0  occupation   \n",
       "\n",
       "                                            act_name  act_id  \n",
       "0                                            curling       1  \n",
       "1                                            curling       1  \n",
       "2  truck driving, loading and unloading truck, ty...       3  \n",
       "3  truck driving, loading and unloading truck, ty...       3  \n",
       "4  truck driving, loading and unloading truck, ty...       3  \n",
       "\n",
       "[5 rows x 56 columns]"
      ]
     },
     "execution_count": 6,
     "metadata": {},
     "output_type": "execute_result"
    }
   ],
   "source": [
    "df.head()"
   ]
  },
  {
   "cell_type": "code",
   "execution_count": null,
   "metadata": {},
   "outputs": [],
   "source": []
  },
  {
   "cell_type": "markdown",
   "metadata": {},
   "source": [
    "### Filtering the data to include only few actions/categories"
   ]
  },
  {
   "cell_type": "code",
   "execution_count": 7,
   "metadata": {},
   "outputs": [
    {
     "data": {
      "text/plain": [
       "array(['sports', 'occupation', 'water activities', 'home activities',\n",
       "       'lawn and garden', 'miscellaneous', 'religious activities',\n",
       "       'winter activities', 'bicycling', 'conditioning exercise',\n",
       "       'fishing and hunting', 'walking', 'running', 'self care',\n",
       "       'music playing', 'home repair', 'transportation',\n",
       "       'inactivity quiet/light', 'dancing', 'volunteer activities'],\n",
       "      dtype=object)"
      ]
     },
     "execution_count": 7,
     "metadata": {},
     "output_type": "execute_result"
    }
   ],
   "source": [
    "# len(df[\"cat_name\"].unique())\n",
    "df[\"cat_name\"].unique()"
   ]
  },
  {
   "cell_type": "code",
   "execution_count": 8,
   "metadata": {},
   "outputs": [
    {
     "name": "stdout",
     "output_type": "stream",
     "text": [
      "total records : 2778\n",
      "total unique acts : 105\n"
     ]
    }
   ],
   "source": [
    "# filtering data based on category.\n",
    "useful = ['sports','bicycling', 'conditionaing exercise', 'walking', 'running', 'dancing']\n",
    "df_useful = df.query(\"cat_name in ['sports','bicycling', 'conditionaing exercise', 'walking', 'running', 'dancing']\")\n",
    "\n",
    "print(f\"total records : {len(df_useful)}\")\n",
    "print(f\"total unique acts : {len(df_useful.act_name.unique())}\" )"
   ]
  },
  {
   "cell_type": "code",
   "execution_count": 9,
   "metadata": {},
   "outputs": [],
   "source": [
    "acts = df_useful.act_name.unique()\n",
    "acts.sort()\n",
    "\n",
    "# acts\n",
    "# acts[:40]\n",
    "# acts[40:]"
   ]
  },
  {
   "cell_type": "code",
   "execution_count": 10,
   "metadata": {},
   "outputs": [],
   "source": [
    "# def merge_duplicates(df, column, pattern, replacement):\n",
    "#     df.loc[df[column].str.contains(pattern), column] = replacement\n",
    "\n",
    "## some acts have multiple forms, \n",
    "# for example - 'bicycling, BMX', 'bicycling, general', 'bicycling, mountain','bicycling, racing and road'\n",
    "# merging them into one - like bicycling.\n",
    "replace = ['walking', 'bicycling', 'hockey', 'tennis' 'badminton', 'aerobic', 'basketball', 'boxing', 'football', 'trampoline', 'volleyball', ]\n",
    "for i in replace:\n",
    "    df_useful.loc[df_useful['act_name'].str.contains(i), 'act_name'] = i\n",
    "\n",
    "df_useful.loc[df_useful['act_name'].str.contains('running|jogging'), 'act_name'] = 'running'"
   ]
  },
  {
   "cell_type": "code",
   "execution_count": 11,
   "metadata": {},
   "outputs": [
    {
     "name": "stdout",
     "output_type": "stream",
     "text": [
      "total records : 2778\n",
      "total unique acts : 82\n"
     ]
    }
   ],
   "source": [
    "print(f\"total records : {len(df_useful)}\")\n",
    "print(f\"total unique acts : {len(df_useful.act_name.unique())}\" )\n",
    "\n",
    "acts = df_useful.act_name.unique()\n",
    "acts.sort()"
   ]
  },
  {
   "cell_type": "code",
   "execution_count": 12,
   "metadata": {},
   "outputs": [
    {
     "name": "stderr",
     "output_type": "stream",
     "text": [
      "C:\\Users\\Nagraj_Spry\\AppData\\Local\\Temp\\ipykernel_32144\\3604532229.py:5: SettingWithCopyWarning: \n",
      "A value is trying to be set on a copy of a slice from a DataFrame\n",
      "\n",
      "See the caveats in the documentation: https://pandas.pydata.org/pandas-docs/stable/user_guide/indexing.html#returning-a-view-versus-a-copy\n",
      "  df_useful.drop(df_useful[df_useful['act_name'] == act].index, inplace=True)\n"
     ]
    }
   ],
   "source": [
    "## dropping the activities that have 15 or less records.\n",
    "for act in acts:\n",
    "    a = len(df_useful.loc[df_useful['act_name'] == act])\n",
    "    if a <= 15:\n",
    "        df_useful.drop(df_useful[df_useful['act_name'] == act].index, inplace=True)"
   ]
  },
  {
   "cell_type": "code",
   "execution_count": 13,
   "metadata": {},
   "outputs": [
    {
     "name": "stdout",
     "output_type": "stream",
     "text": [
      "total records : 2492\n",
      "total unique acts : 45\n"
     ]
    }
   ],
   "source": [
    "print(f\"total records : {len(df_useful)}\")\n",
    "print(f\"total unique acts : {len(df_useful.act_name.unique())}\" )"
   ]
  },
  {
   "cell_type": "code",
   "execution_count": 14,
   "metadata": {},
   "outputs": [],
   "source": [
    "df_useful.to_csv(\"poseDataset.csv\")"
   ]
  }
 ],
 "metadata": {
  "kernelspec": {
   "display_name": "venv1",
   "language": "python",
   "name": "venv1"
  },
  "language_info": {
   "codemirror_mode": {
    "name": "ipython",
    "version": 3
   },
   "file_extension": ".py",
   "mimetype": "text/x-python",
   "name": "python",
   "nbconvert_exporter": "python",
   "pygments_lexer": "ipython3",
   "version": "3.9.12"
  },
  "orig_nbformat": 4
 },
 "nbformat": 4,
 "nbformat_minor": 2
}
